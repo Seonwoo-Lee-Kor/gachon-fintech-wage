{
 "cells": [
  {
   "cell_type": "code",
   "execution_count": 103,
   "id": "f91fde37",
   "metadata": {},
   "outputs": [],
   "source": [
    "import serial   \n",
    "import pandas as pd\n",
    "ard=serial.Serial('COM5',9600) #아두니오와 파이썬 연결\n"
   ]
  },
  {
   "cell_type": "code",
   "execution_count": 122,
   "id": "448a5dc7",
   "metadata": {},
   "outputs": [],
   "source": [
    "s=\"\""
   ]
  },
  {
   "cell_type": "code",
   "execution_count": 124,
   "id": "d45495ab",
   "metadata": {},
   "outputs": [
    {
     "name": "stdout",
     "output_type": "stream",
     "text": [
      "3, James, Log In, 0\r\n",
      "3, James, Log Out, 27485\r\n",
      "\n"
     ]
    }
   ],
   "source": [
    "while ard.inWaiting() > 0 :\n",
    "    s += ard.readline().decode()\n",
    "\n",
    "print(s)"
   ]
  },
  {
   "cell_type": "code",
   "execution_count": 125,
   "id": "dc8532c0",
   "metadata": {},
   "outputs": [
    {
     "name": "stdout",
     "output_type": "stream",
     "text": [
      "    1st 2nd 3rd 4th     H\n",
      "mon   0   0   0   0  9500\n",
      "tue  27   0   0   0  9500\n",
      "wen   0   0   0   0  9500\n",
      "thu   0   0   0   0  9500\n",
      "fri   0   0   0   0  9500\n",
      "sat   0   0   0   0  9500\n",
      "sun   0   0   0   0  9500\n"
     ]
    }
   ],
   "source": [
    "w=s.split(\" \") \n",
    "count = w.count('Out,') # Out한 개수\n",
    "\n",
    "# 3명의 데이터\n",
    "p1=list() \n",
    "p2=list()\n",
    "p3=list()\n",
    "\n",
    "\n",
    "\n",
    "for x in range(count) : \n",
    "    if float(w.index('Out,')) > 0 :\n",
    "        if w[w.index('Out,')-3][len(w[w.index('Out,')-3])-2:len(w[w.index('Out,')-3])-1]   == '1':  # ID가 1일때\n",
    "            if len(w[w.index('Out,')+1]) >7 : # 시간자리가 7개 초과일때 (이유는 시간데이터 뒤에 \\r\\n 띄어쓰기도 포함되어 있습니다.)\n",
    "                p1 += [w[w.index('Out,')+1][:-7]]   # 시간데이터를 p1이라는 변수에 모으는 과정\n",
    "                w.remove('Out,')                    # 모은 데이터를 제거하여 중복 방지 \n",
    "            else :\n",
    "                p1 += [w[w.index('Out,')+1][:-5]]   # 시간자리가 5개 초과일때\n",
    "                w.remove('Out,')\n",
    "      \n",
    "        elif w[w.index('Out,')-3][len(w[w.index('Out,')-3])-2:len(w[w.index('Out,')-3])-1]    == '2':  # ID가 2일때\n",
    "            if len(w[w.index('Out,')+1]) >7 :     \n",
    "                p2 += [w[w.index('Out,')+1][:-7] ]\n",
    "                w.remove('Out,')\n",
    "            else :\n",
    "                p2 += [w[w.index('Out,')+1][:-5]]\n",
    "                w.remove('Out,')\n",
    "      \n",
    "        elif w[w.index('Out,')-3][len(w[w.index('Out,')-3])-2:len(w[w.index('Out,')-3])-1]    == '3':  # ID가 3일때\n",
    "            if len(w[w.index('Out,')+1]) >7 :\n",
    "                p3 += [w[w.index('Out,')+1][:-7]] \n",
    "                w.remove('Out,')\n",
    "            else :\n",
    "                p3 += [w[w.index('Out,')+1][:-5]]\n",
    "                w.remove('Out,')\n",
    "        \n",
    "\n",
    "\n",
    "\n",
    "# ID 1\n",
    "for x in  range(6- len(p1)) :  # 6번미만으로 일했을 경우 나머지는 0으로 채워집니다.\n",
    "    if 6 - len(p1) > 0 :\n",
    "        p1 += ['0']\n",
    "        \n",
    "try :\n",
    "    work_time1 = pd.DataFrame([p1[0],0,0,0,0,0,0],\n",
    "                          columns=[\"1st\"],index=['mon','tue','wen','thu','fri','sat','sun'])\n",
    "\n",
    "    work_time1['2nd']=(0,0,p1[1],0,0,0,0)\n",
    "    work_time1['3rd']=(0,0,0,p1[2],0,p1[3],0)\n",
    "    work_time1['4th']=(p1[4],0,0,p1[5],0,0,0)\n",
    "    work_time1['H']=(9500)\n",
    "    work_time1 # ID 1 인 사람의 한달 데이터\n",
    "\n",
    "except:\n",
    "        print(\"check Id 1 data\")   \n",
    "\n",
    "# ID 2\n",
    "for x in  range(6- len(p2)) :\n",
    "    if 6 - len(p2) > 0 :\n",
    "        p2 += ['0']\n",
    "        \n",
    "try :\n",
    "    work_time2 = pd.DataFrame([0,0,0,p2[0],0,0,0],\n",
    "                          columns=[\"1st\"],index=['mon','tue','wen','thu','fri','sat','sun'])\n",
    "\n",
    "    work_time2['2nd']=(0,0,p2[1],0,0,p2[2],0)\n",
    "    work_time2['3rd']=(0,0,0,p2[3],0,p2[4],0)\n",
    "    work_time2['4th']=(0,0,0,p2[5],0,0,0)\n",
    "    work_time2['H']=(9500)\n",
    "    work_time2 # ID 2 인 사람의 한달 데이터\n",
    "\n",
    "except:\n",
    "        print(\"check Id 2 data\")\n",
    "    \n",
    "# ID 3\n",
    "for x in  range(6- len(p3)) :\n",
    "    if 6 - len(p3) > 0 :\n",
    "        p3 += ['0']\n",
    "        \n",
    "try :\n",
    "    work_time3 = pd.DataFrame([0,p3[0],0,0,p3[1],0,0],\n",
    "                          columns=[\"1st\"],index=['mon','tue','wen','thu','fri','sat','sun'])\n",
    "\n",
    "    work_time3['2nd']=(0,0,p3[2],0,0,0,0)\n",
    "    work_time3['3rd']=(0,0,0,p3[3],p3[4],0,0)\n",
    "    work_time3['4th']=(0,0,0,p3[5],0,0,0)\n",
    "    work_time3['H']=(9500)\n",
    "    work_time3 # ID 3 인 사람의 한달 데이터\n",
    "\n",
    "except:\n",
    "        print(\"check Id 3 data\")\n",
    "        \n",
    "        \n",
    "        \n",
    "print(work_time3)"
   ]
  },
  {
   "cell_type": "code",
   "execution_count": null,
   "id": "f9bd2249",
   "metadata": {},
   "outputs": [],
   "source": []
  }
 ],
 "metadata": {
  "kernelspec": {
   "display_name": "Python 3 (ipykernel)",
   "language": "python",
   "name": "python3"
  },
  "language_info": {
   "codemirror_mode": {
    "name": "ipython",
    "version": 3
   },
   "file_extension": ".py",
   "mimetype": "text/x-python",
   "name": "python",
   "nbconvert_exporter": "python",
   "pygments_lexer": "ipython3",
   "version": "3.9.12"
  }
 },
 "nbformat": 4,
 "nbformat_minor": 5
}
