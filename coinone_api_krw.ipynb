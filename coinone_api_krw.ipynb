{
 "cells": [
  {
   "cell_type": "code",
   "execution_count": 17,
   "metadata": {},
   "outputs": [
    {
     "name": "stdout",
     "output_type": "stream",
     "text": [
      "b'{\"result\":\"success\",\"errorCode\":\"0\",\"normalWallets\":[],\"krw\":{\"avail\":\"3.0\",\"balance\":\"3.0\"},\"reap\":{\"avail\":\"0.0\",\"balance\":\"0.0\"},\"btr\":{\"avail\":\"0.0\",\"balance\":\"0.0\"},\"ever\":{\"avail\":\"0.0\",\"balance\":\"0.0\"},\"noa\":{\"avail\":\"0.0\",\"balance\":\"0.0\"},\"orbr\":{\"avail\":\"0.0\",\"balance\":\"0.0\"},\"btt\":{\"avail\":\"0.0\",\"balance\":\"0.0\"},\"myce\":{\"avail\":\"0.0\",\"balance\":\"0.0\"},\"npt\":{\"avail\":\"0.0\",\"balance\":\"0.0\"},\"thn\":{\"avail\":\"0.0\",\"balance\":\"0.0\"},\"itamcube\":{\"avail\":\"0.0\",\"balance\":\"0.0\"},\"spa\":{\"avail\":\"0.0\",\"balance\":\"0.0\"},\"lbl\":{\"avail\":\"0.0\",\"balance\":\"0.0\"},\"mev\":{\"avail\":\"0.0\",\"balance\":\"0.0\"},\"nft\":{\"avail\":\"0.0\",\"balance\":\"0.0\"},\"ldn\":{\"avail\":\"0.0\",\"balance\":\"0.0\"},\"ilv\":{\"avail\":\"0.0\",\"balance\":\"0.0\"},\"cvx\":{\"avail\":\"0.0\",\"balance\":\"0.0\"},\"bit\":{\"avail\":\"0.0\",\"balance\":\"0.0\"},\"dao\":{\"avail\":\"0.0\",\"balance\":\"0.0\"},\"flux\":{\"avail\":\"0.0\",\"balance\":\"0.0\"},\"ern\":{\"avail\":\"0.0\",\"balance\":\"0.0\"},\"wemix\":{\"avail\":\"0.0\",\"balance\":\"0.0\"},\"gala\":{\"avail\":\"0.0\",\"balance\":\"0.0\"},\"mana\":{\"avail\":\"0.0\",\"balance\":\"0.0\"},\"sgb\":{\"avail\":\"0.0\",\"balance\":\"0.0\"},\"cru\":{\"avail\":\"0.0\",\"balance\":\"0.0\"},\"sku\":{\"avail\":\"0.0\",\"balance\":\"0.0\"},\"wncg\":{\"avail\":\"0.0\",\"balance\":\"0.0\"},\"sol\":{\"avail\":\"0.0\",\"balance\":\"0.0\"},\"ach\":{\"avail\":\"0.0\",\"balance\":\"0.0\"},\"flow\":{\"avail\":\"0.0\",\"balance\":\"0.0\"},\"xec\":{\"avail\":\"0.0\",\"balance\":\"0.0\"},\"clv\":{\"avail\":\"0.0\",\"balance\":\"0.0\"},\"auction\":{\"avail\":\"0.0\",\"balance\":\"0.0\"},\"sun\":{\"avail\":\"0.0\",\"balance\":\"0.0\"},\"stnd\":{\"avail\":\"0.0\",\"balance\":\"0.0\"},\"doge\":{\"avail\":\"0.0\",\"balance\":\"0.0\"},\"fis\":{\"avail\":\"0.0\",\"balance\":\"0.0\"},\"anc\":{\"avail\":\"0.0\",\"balance\":\"0.0\"},\"hot\":{\"avail\":\"0.0\",\"balance\":\"0.0\"},\"cro\":{\"avail\":\"0.0\",\"balance\":\"0.0\"},\"lit\":{\"avail\":\"0.0\",\"balance\":\"0.0\"},\"mega\":{\"avail\":\"0.0\",\"balance\":\"0.0\"},\"sand\":{\"avail\":\"0.0\",\"balance\":\"0.0\"},\"soba\":{\"avail\":\"0.0\",\"balance\":\"0.0\"},\"tvk\":{\"avail\":\"0.0\",\"balance\":\"0.0\"},\"pha\":{\"avail\":\"0.0\",\"balance\":\"0.0\"},\"icx\":{\"avail\":\"0.0\",\"balance\":\"0.0\"},\"uni\":{\"avail\":\"0.0\",\"balance\":\"0.0\"},\"fil\":{\"avail\":\"0.0\",\"balance\":\"0.0\"},\"idv\":{\"avail\":\"0.0\",\"balance\":\"0.0\"},\"biot\":{\"avail\":\"0.0\",\"balance\":\"0.0\"},\"att\":{\"avail\":\"0.0\",\"balance\":\"0.0\"},\"lzm\":{\"avail\":\"0.0\",\"balance\":\"0.0\"},\"mlk\":{\"avail\":\"0.0\",\"balance\":\"0.0\"},\"celeb\":{\"avail\":\"0.0\",\"balance\":\"0.0\"},\"qi\":{\"avail\":\"0.0\",\"balance\":\"0.0\"},\"pod\":{\"avail\":\"0.0\",\"balance\":\"0.0\"},\"map\":{\"avail\":\"0.0\",\"balance\":\"0.0\"},\"cad\":{\"avail\":\"0.0\",\"balance\":\"0.0\"},\"ten\":{\"avail\":\"0.0\",\"balance\":\"0.0\"},\"vivi\":{\"avail\":\"0.0\",\"balance\":\"0.0\"},\"trix\":{\"avail\":\"0.0\",\"balance\":\"0.0\"},\"grt\":{\"avail\":\"0.0\",\"balance\":\"0.0\"},\"ksp\":{\"avail\":\"0.0\",\"balance\":\"0.0\"},\"torocus\":{\"avail\":\"0.0\",\"balance\":\"0.0\"},\"crv\":{\"avail\":\"0.0\",\"balance\":\"0.0\"},\"sushi\":{\"avail\":\"0.0\",\"balance\":\"0.0\"},\"rush\":{\"avail\":\"0.0\",\"balance\":\"0.0\"},\"cbk\":{\"avail\":\"0.0\",\"balance\":\"0.0\"},\"cbank\":{\"avail\":\"0.0\",\"balance\":\"0.0\"},\"lina\":{\"avail\":\"0.0\",\"balance\":\"0.0\"},\"tip\":{\"avail\":\"0.0\",\"balance\":\"0.0\"},\"basic\":{\"avail\":\"0.0\",\"balance\":\"0.0\"},\"tom\":{\"avail\":\"0.0\",\"balance\":\"0.0\"},\"mir\":{\"avail\":\"0.0\",\"balance\":\"0.0\"},\"don\":{\"avail\":\"0.0\",\"balance\":\"0.0\"},\"hard\":{\"avail\":\"0.0\",\"balance\":\"0.0\"},\"ducato\":{\"avail\":\"0.0\",\"balance\":\"0.0\"},\"mts\":{\"avail\":\"0.0\",\"balance\":\"0.0\"},\"inj\":{\"avail\":\"0.0\",\"balance\":\"0.0\"},\"handy\":{\"avail\":\"0.0\",\"balance\":\"0.0\"},\"axs\":{\"avail\":\"0.0\",\"balance\":\"0.0\"},\"bmp\":{\"avail\":\"0.0\",\"balance\":\"0.0\"},\"front\":{\"avail\":\"0.0\",\"balance\":\"0.0\"},\"bcha\":{\"avail\":\"0.0\",\"balance\":\"0.0\"},\"sklay\":{\"avail\":\"0.0\",\"balance\":\"0.0\"},\"pure\":{\"avail\":\"0.0\",\"balance\":\"0.0\"},\"dodo\":{\"avail\":\"0.0\",\"balance\":\"0.0\"},\"camp\":{\"avail\":\"0.0\",\"balance\":\"0.0\"},\"bnt\":{\"avail\":\"0.0\",\"balance\":\"0.0\"},\"orc\":{\"avail\":\"0.0\",\"balance\":\"0.0\"},\"dvi\":{\"avail\":\"0.0\",\"balance\":\"0.0\"},\"pica\":{\"avail\":\"0.0\",\"balance\":\"0.0\"},\"stake\":{\"avail\":\"0.0\",\"balance\":\"0.0\"},\"mvc\":{\"avail\":\"0.0\",\"balance\":\"0.0\"},\"bel\":{\"avail\":\"0.0\",\"balance\":\"0.0\"},\"weth\":{\"avail\":\"0.0\",\"balance\":\"0.0\"},\"wbtc\":{\"avail\":\"0.0\",\"balance\":\"0.0\"},\"asta\":{\"avail\":\"0.0\",\"balance\":\"0.0\"},\"ckb\":{\"avail\":\"0.0\",\"balance\":\"0.0\"},\"bfc\":{\"avail\":\"0.0\",\"balance\":\"0.0\"},\"alpha\":{\"avail\":\"0.0\",\"balance\":\"0.0\"},\"aave\":{\"avail\":\"0.0\",\"balance\":\"0.0\"},\"lua\":{\"avail\":\"0.0\",\"balance\":\"0.0\"},\"tomoe\":{\"avail\":\"0.0\",\"balance\":\"0.0\"},\"sunold\":{\"avail\":\"0.0\",\"balance\":\"0.0\"},\"tmc\":{\"avail\":\"0.0\",\"balance\":\"0.0\"},\"msb\":{\"avail\":\"0.0\",\"balance\":\"0.0\"},\"lend\":{\"avail\":\"0.0\",\"balance\":\"0.0\"},\"dmg\":{\"avail\":\"0.0\",\"balance\":\"0.0\"},\"ada\":{\"avail\":\"0.0\",\"balance\":\"0.0\"},\"ren\":{\"avail\":\"0.0\",\"balance\":\"0.0\"},\"bot\":{\"avail\":\"0.0\",\"balance\":\"0.0\"},\"uma\":{\"avail\":\"0.0\",\"balance\":\"0.0\"},\"dia\":{\"avail\":\"0.0\",\"balance\":\"0.0\"},\"nest\":{\"avail\":\"0.0\",\"balance\":\"0.0\"},\"bal\":{\"avail\":\"0.0\",\"balance\":\"0.0\"},\"dot\":{\"avail\":\"0.0\",\"balance\":\"0.0\"},\"ctsi\":{\"avail\":\"0.0\",\"balance\":\"0.0\"},\"srm\":{\"avail\":\"0.0\",\"balance\":\"0.0\"},\"sxp\":{\"avail\":\"0.0\",\"balance\":\"0.0\"},\"ksm\":{\"avail\":\"0.0\",\"balance\":\"0.0\"},\"ipx\":{\"avail\":\"0.0\",\"balance\":\"0.0\"},\"vsys\":{\"avail\":\"0.0\",\"balance\":\"0.0\"},\"aoa\":{\"avail\":\"0.0\",\"balance\":\"0.0\"},\"ftt\":{\"avail\":\"0.0\",\"balance\":\"0.0\"},\"isdt\":{\"avail\":\"0.0\",\"balance\":\"0.0\"},\"band\":{\"avail\":\"0.0\",\"balance\":\"0.0\"},\"ella\":{\"avail\":\"0.0\",\"balance\":\"0.0\"},\"link\":{\"avail\":\"0.0\",\"balance\":\"0.0\"},\"luna2\":{\"avail\":\"0.0\",\"balance\":\"0.0\"},\"mta\":{\"avail\":\"0.0\",\"balance\":\"0.0\"},\"ctx\":{\"avail\":\"0.0\",\"balance\":\"0.0\"},\"kai\":{\"avail\":\"0.0\",\"balance\":\"0.0\"},\"aqua\":{\"avail\":\"0.0\",\"balance\":\"0.0\"},\"bzrx\":{\"avail\":\"0.0\",\"balance\":\"0.0\"},\"stpl\":{\"avail\":\"0.0\",\"balance\":\"0.0\"},\"mov\":{\"avail\":\"0.0\",\"balance\":\"0.0\"},\"six\":{\"avail\":\"0.0\",\"balance\":\"0.0\"},\"solo\":{\"avail\":\"0.0\",\"balance\":\"0.0\"},\"nfup\":{\"avail\":\"0.0\",\"balance\":\"0.0\"},\"boba\":{\"avail\":\"0.0\",\"balance\":\"0.0\"},\"ibp\":{\"avail\":\"0.0\",\"balance\":\"0.0\"},\"nftold\":{\"avail\":\"0.0\",\"balance\":\"0.0\"},\"get\":{\"avail\":\"0.0\",\"balance\":\"0.0\"},\"exfi\":{\"avail\":\"0.0\",\"balance\":\"0.0\"},\"krt\":{\"avail\":\"0.0\",\"balance\":\"0.0\"},\"wecash\":{\"avail\":\"0.0\",\"balance\":\"0.0\"},\"comp\":{\"avail\":\"0.0\",\"balance\":\"0.0\"},\"eox\":{\"avail\":\"0.0\",\"balance\":\"0.0\"},\"trcl\":{\"avail\":\"0.0\",\"balance\":\"0.0\"},\"chl\":{\"avail\":\"0.0\",\"balance\":\"0.0\"},\"show\":{\"avail\":\"0.0\",\"balance\":\"0.0\"},\"edna\":{\"avail\":\"0.0\",\"balance\":\"0.0\"},\"klay\":{\"avail\":\"0.0\",\"balance\":\"0.0\"},\"black\":{\"avail\":\"0.0\",\"balance\":\"0.0\"},\"exe\":{\"avail\":\"0.0\",\"balance\":\"0.0\"},\"add\":{\"avail\":\"0.0\",\"balance\":\"0.0\"},\"lmch\":{\"avail\":\"0.0\",\"balance\":\"0.0\"},\"atd\":{\"avail\":\"0.0\",\"balance\":\"0.0\"},\"tmtg\":{\"avail\":\"0.0\",\"balance\":\"0.0\"},\"horus\":{\"avail\":\"0.0\",\"balance\":\"0.0\"},\"dvx\":{\"avail\":\"0.0\",\"balance\":\"0.0\"},\"jst\":{\"avail\":\"0.0\",\"balance\":\"0.0\"},\"asm\":{\"avail\":\"0.0\",\"balance\":\"0.0\"},\"kdag\":{\"avail\":\"0.0\",\"balance\":\"0.0\"},\"rnx\":{\"avail\":\"0.0\",\"balance\":\"0.0\"},\"bora\":{\"avail\":\"0.0\",\"balance\":\"0.0\"},\"qtcon\":{\"avail\":\"0.0\",\"balance\":\"0.0\"},\"kava\":{\"avail\":\"0.0\",\"balance\":\"0.0\"},\"dai\":{\"avail\":\"0.0\",\"balance\":\"0.0\"},\"cos\":{\"avail\":\"0.0\",\"balance\":\"0.0\"},\"lbxc\":{\"avail\":\"0.0\",\"balance\":\"0.0\"},\"wiken\":{\"avail\":\"0.0\",\"balance\":\"0.0\"},\"ogn\":{\"avail\":\"0.0\",\"balance\":\"0.0\"},\"xpn\":{\"avail\":\"0.0\",\"balance\":\"0.0\"},\"hibs\":{\"avail\":\"0.0\",\"balance\":\"0.0\"},\"bna\":{\"avail\":\"0.0\",\"balance\":\"0.0\"},\"kvi\":{\"avail\":\"0.0\",\"balance\":\"0.0\"},\"soc\":{\"avail\":\"0.0\",\"balance\":\"0.0\"},\"psc\":{\"avail\":\"0.0\",\"balance\":\"0.0\"},\"iotx\":{\"avail\":\"0.0\",\"balance\":\"0.0\"},\"drm\":{\"avail\":\"0.0\",\"balance\":\"0.0\"},\"troy\":{\"avail\":\"0.0\",\"balance\":\"0.0\"},\"mbl\":{\"avail\":\"0.0\",\"balance\":\"0.0\"},\"axl\":{\"avail\":\"0.0\",\"balance\":\"0.0\"},\"stpt\":{\"avail\":\"0.0\",\"balance\":\"0.0\"},\"pci\":{\"avail\":\"0.0\",\"balance\":\"0.0\"},\"chz\":{\"avail\":\"0.0\",\"balance\":\"0.0\"},\"ftm\":{\"avail\":\"0.0\",\"balance\":\"0.0\"},\"redi\":{\"avail\":\"0.0\",\"balance\":\"0.0\"},\"isr\":{\"avail\":\"0.0\",\"balance\":\"0.0\"},\"fleta\":{\"avail\":\"0.0\",\"balance\":\"0.0\"},\"baas\":{\"avail\":\"0.0\",\"balance\":\"0.0\"},\"clb\":{\"avail\":\"0.0\",\"balance\":\"0.0\"},\"uos\":{\"avail\":\"0.0\",\"balance\":\"0.0\"},\"vanta\":{\"avail\":\"0.0\",\"balance\":\"0.0\"},\"arpa\":{\"avail\":\"0.0\",\"balance\":\"0.0\"},\"hum\":{\"avail\":\"0.0\",\"balance\":\"0.0\"},\"dad\":{\"avail\":\"0.0\",\"balance\":\"0.0\"},\"lamb\":{\"avail\":\"0.0\",\"balance\":\"0.0\"},\"prom\":{\"avail\":\"0.0\",\"balance\":\"0.0\"},\"matic\":{\"avail\":\"0.0\",\"balance\":\"0.0\"},\"egg\":{\"avail\":\"0.0\",\"balance\":\"0.0\"},\"dappt\":{\"avail\":\"0.0\",\"balance\":\"0.0\"},\"ksc\":{\"avail\":\"0.0\",\"balance\":\"0.0\"},\"pib\":{\"avail\":\"0.0\",\"balance\":\"0.0\"},\"hint\":{\"avail\":\"0.0\",\"balance\":\"0.0\"},\"temco\":{\"avail\":\"0.0\",\"balance\":\"0.0\"},\"spin\":{\"avail\":\"0.0\",\"balance\":\"0.0\"},\"ankr\":{\"avail\":\"0.0\",\"balance\":\"0.0\"},\"orbs\":{\"avail\":\"0.0\",\"balance\":\"0.0\"},\"cpt\":{\"avail\":\"0.0\",\"balance\":\"0.0\"},\"amo\":{\"avail\":\"0.0\",\"balance\":\"0.0\"},\"gas\":{\"avail\":\"0.0\",\"balance\":\"0.0\"},\"ong\":{\"avail\":\"0.0\",\"balance\":\"0.0\"},\"ont\":{\"avail\":\"0.0\",\"balance\":\"0.0\"},\"tfuel\":{\"avail\":\"0.0\",\"balance\":\"0.0\"},\"cosm\":{\"avail\":\"0.0\",\"balance\":\"0.0\"},\"enj\":{\"avail\":\"0.0\",\"balance\":\"0.0\"},\"vnt\":{\"avail\":\"0.0\",\"balance\":\"0.0\"},\"mzk\":{\"avail\":\"0.0\",\"balance\":\"0.0\"},\"bttold\":{\"avail\":\"0.0\",\"balance\":\"0.0\"},\"trx\":{\"avail\":\"0.0\",\"balance\":\"0.0\"},\"neo\":{\"avail\":\"0.0\",\"balance\":\"0.0\"},\"xlm\":{\"avail\":\"0.0\",\"balance\":\"0.0\"},\"abl\":{\"avail\":\"0.0\",\"balance\":\"0.0\"},\"bsv\":{\"avail\":\"0.0\",\"balance\":\"0.0\"},\"gno\":{\"avail\":\"0.0\",\"balance\":\"0.0\"},\"credo\":{\"avail\":\"0.0\",\"balance\":\"0.0\"},\"storm\":{\"avail\":\"0.0\",\"balance\":\"0.0\"},\"theta\":{\"avail\":\"0.0\",\"balance\":\"0.0\"},\"bat\":{\"avail\":\"0.0\",\"balance\":\"0.0\"},\"loom\":{\"avail\":\"0.0\",\"balance\":\"0.0\"},\"storj\":{\"avail\":\"0.0\",\"balance\":\"0.0\"},\"adt\":{\"avail\":\"0.0\",\"balance\":\"0.0\"},\"snm\":{\"avail\":\"0.0\",\"balance\":\"0.0\"},\"rep\":{\"avail\":\"0.0\",\"balance\":\"0.0\"},\"xtz\":{\"avail\":\"0.0\",\"balance\":\"0.0\"},\"zrx\":{\"avail\":\"0.0\",\"balance\":\"0.0\"},\"knc\":{\"avail\":\"0.0\",\"balance\":\"0.0\"},\"zil\":{\"avail\":\"0.0\",\"balance\":\"0.0\"},\"data\":{\"avail\":\"0.0\",\"balance\":\"0.0\"},\"omg\":{\"avail\":\"0.0\",\"balance\":\"0.0\"},\"btg\":{\"avail\":\"0.0\",\"balance\":\"0.0\"},\"ltc\":{\"avail\":\"0.0\",\"balance\":\"0.0\"},\"iota\":{\"avail\":\"0.0\",\"balance\":\"0.0\"},\"qtum\":{\"avail\":\"0.0\",\"balance\":\"0.0\"},\"mnr\":{\"avail\":\"0.0\",\"balance\":\"0.0\"},\"aip\":{\"avail\":\"0.0\",\"balance\":\"0.0\"},\"eos\":{\"avail\":\"0.0\",\"balance\":\"0.0\"},\"1inch\":{\"avail\":\"0.0\",\"balance\":\"0.0\"},\"bch\":{\"avail\":\"0.0\",\"balance\":\"0.0\"},\"gom2\":{\"avail\":\"0.0\",\"balance\":\"0.0\"},\"avax\":{\"avail\":\"0.0\",\"balance\":\"0.0\"},\"atom\":{\"avail\":\"0.0\",\"balance\":\"0.0\"},\"pxl\":{\"avail\":\"0.0\",\"balance\":\"0.0\"},\"fet\":{\"avail\":\"0.0\",\"balance\":\"0.0\"},\"qtbk\":{\"avail\":\"0.0\",\"balance\":\"0.0\"},\"xrp\":{\"avail\":\"0.0\",\"balance\":\"0.0\"},\"celr\":{\"avail\":\"0.0\",\"balance\":\"0.0\"},\"obsr\":{\"avail\":\"0.0\",\"balance\":\"0.0\"},\"fcr\":{\"avail\":\"0.0\",\"balance\":\"0.0\"},\"etc\":{\"avail\":\"0.0\",\"balance\":\"0.0\"},\"mch\":{\"avail\":\"0.0\",\"balance\":\"0.0\"},\"onx\":{\"avail\":\"0.0\",\"balance\":\"0.0\"},\"eth\":{\"avail\":\"0.0\",\"balance\":\"0.0\"},\"lunc\":{\"avail\":\"0.0\",\"balance\":\"0.0\"},\"snx\":{\"avail\":\"0.0\",\"balance\":\"0.0\"},\"drc\":{\"avail\":\"0.0\",\"balance\":\"0.0\"},\"btc\":{\"avail\":\"0.0\",\"balance\":\"0.0\"}}'\n"
     ]
    }
   ],
   "source": [
    "#현재 코인원 잔고에 3원만 들어있습니다\n",
    "\n",
    "import base64\n",
    "import hashlib\n",
    "import hmac\n",
    "import json\n",
    "import time\n",
    "import httplib2\n",
    "\n",
    "ACCESS_TOKEN = '52b36f87-c585-4786-85da-7f4af2208585'\n",
    "SECRET_KEY = bytes('d2097823-9f5d-4851-812c-eea7f866012a', 'utf-8')\n",
    "\n",
    "\n",
    "def get_encoded_payload(payload):\n",
    "    payload['nonce'] = int(time.time() * 1000)\n",
    "\n",
    "    dumped_json = json.dumps(payload)\n",
    "    encoded_json = base64.b64encode(bytes(dumped_json, 'utf-8'))\n",
    "    return encoded_json\n",
    "\n",
    "\n",
    "def get_signature(encoded_payload):\n",
    "    signature = hmac.new(SECRET_KEY, encoded_payload, hashlib.sha512)\n",
    "    return signature.hexdigest()\n",
    "\n",
    "\n",
    "def get_response(action, payload):\n",
    "    url = '{}{}'.format('https://api.coinone.co.kr/', action)\n",
    "\n",
    "    encoded_payload = get_encoded_payload(payload)\n",
    "\n",
    "    headers = {\n",
    "        'Content-type': 'application/json',\n",
    "        'X-COINONE-PAYLOAD': encoded_payload,\n",
    "        'X-COINONE-SIGNATURE': get_signature(encoded_payload),\n",
    "    }\n",
    "\n",
    "    http = httplib2.Http()\n",
    "    response, content = http.request(url, 'POST', body=encoded_payload, headers=headers)\n",
    "\n",
    "    return content\n",
    "\n",
    "\n",
    "print(get_response(action='v2/account/balance', payload={'access_token': ACCESS_TOKEN,}))\n"
   ]
  },
  {
   "cell_type": "code",
   "execution_count": 89,
   "metadata": {},
   "outputs": [
    {
     "data": {
      "text/plain": [
       "3.0"
      ]
     },
     "execution_count": 89,
     "metadata": {},
     "output_type": "execute_result"
    }
   ],
   "source": [
    "a = get_response(action='v2/account/balance', payload={'access_token': ACCESS_TOKEN,})\n",
    "b = str(a[71:74])\n",
    "c = b[2:5]\n",
    "d = float(c)\n",
    "d"
   ]
  },
  {
   "cell_type": "code",
   "execution_count": null,
   "metadata": {},
   "outputs": [],
   "source": []
  }
 ],
 "metadata": {
  "kernelspec": {
   "display_name": "Python 3",
   "language": "python",
   "name": "python3"
  },
  "language_info": {
   "codemirror_mode": {
    "name": "ipython",
    "version": 3
   },
   "file_extension": ".py",
   "mimetype": "text/x-python",
   "name": "python",
   "nbconvert_exporter": "python",
   "pygments_lexer": "ipython3",
   "version": "3.8.5"
  }
 },
 "nbformat": 4,
 "nbformat_minor": 4
}
