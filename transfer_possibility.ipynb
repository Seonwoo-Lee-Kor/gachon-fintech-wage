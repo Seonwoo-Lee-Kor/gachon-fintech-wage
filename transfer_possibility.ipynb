{
 "cells": [
  {
   "cell_type": "code",
   "execution_count": 1,
   "metadata": {},
   "outputs": [],
   "source": [
    "import numpy as np\n",
    "import pandas as pd\n",
    "import base64\n",
    "import hashlib\n",
    "import hmac\n",
    "import json\n",
    "import time\n",
    "import httplib2"
   ]
  },
  {
   "cell_type": "code",
   "execution_count": 2,
   "metadata": {},
   "outputs": [],
   "source": [
    "#wage_calculate_with_adu의 부분입니다.\n",
    "\n",
    "work_time_sim = pd.read_pickle(\"work_time_sim.pkl\")\n",
    "\n",
    "week_all=[]\n",
    "week_num = [\"1st\",\"2nd\",\"3rd\",\"4th\"]\n",
    "day_of_week = [0,1,2,3,4,5,6]\n",
    "for i in week_num :\n",
    "    for j in day_of_week :\n",
    "        week_all.append(int(list(work_time_sim[i])[j]))\n",
    "\n",
    "week_1st = week_all[0:7]\n",
    "week_2nd = week_all[7:14]\n",
    "week_3rd = week_all[14:21]\n",
    "week_4th = week_all[21:28]\n",
    "\n",
    "work_time = pd.DataFrame(week_1st, columns = ['1st'], index = ['mon','tue', 'wen' , 'thu' , 'fri' , 'sat' , 'sun'])\n",
    "work_time['2nd'] = week_2nd\n",
    "work_time['3rd'] = week_3rd\n",
    "work_time['4th'] = week_4th\n",
    "work_time['H'] = (9500)"
   ]
  },
  {
   "cell_type": "code",
   "execution_count": 3,
   "metadata": {},
   "outputs": [],
   "source": [
    "#wage_calculate_with_adu의 부분입니다.\n",
    "\n",
    "a = work_time['1st']\n",
    "b = work_time['2nd']\n",
    "c = work_time['3rd']\n",
    "d = work_time['4th']\n",
    "per_hour = work_time['H'][1]\n",
    "\n",
    "week1 = a.sum()\n",
    "week2 = b.sum()\n",
    "week3 = c.sum()\n",
    "week4 = d.sum()\n",
    "\n",
    "x = [week1,week2,week3,week4]\n",
    "work_time = []\n",
    "work_wage = []\n",
    "\n",
    "for i in x :\n",
    "    if i <= 15 :\n",
    "        i = i\n",
    "        work_time.append(i)\n",
    "        work_wage.append(i*per_hour)\n",
    "        \n",
    "    elif i <= 40 :\n",
    "        i = i * 1.2\n",
    "        work_time.append(i)\n",
    "        work_wage.append(i*per_hour)\n",
    "        \n",
    "    else:\n",
    "        i = i + 40 * 0.2\n",
    "        work_time.append(i)\n",
    "        work_wage.append(i*per_hour)\n",
    "        \n",
    "    \n",
    "time_sum = sum(work_time)\n",
    "work_sum = sum(work_wage)"
   ]
  },
  {
   "cell_type": "code",
   "execution_count": 6,
   "metadata": {},
   "outputs": [
    {
     "data": {
      "text/plain": [
       "3.0"
      ]
     },
     "execution_count": 6,
     "metadata": {},
     "output_type": "execute_result"
    }
   ],
   "source": [
    "#coinone_api_krw의 부분입니다\n",
    "\n",
    "ACCESS_TOKEN = '52b36f87-c585-4786-85da-7f4af2208585'\n",
    "SECRET_KEY = bytes('d2097823-9f5d-4851-812c-eea7f866012a', 'utf-8')\n",
    "\n",
    "\n",
    "def get_encoded_payload(payload):\n",
    "    payload['nonce'] = int(time.time() * 1000)\n",
    "\n",
    "    dumped_json = json.dumps(payload)\n",
    "    encoded_json = base64.b64encode(bytes(dumped_json, 'utf-8'))\n",
    "    return encoded_json\n",
    "\n",
    "\n",
    "def get_signature(encoded_payload):\n",
    "    signature = hmac.new(SECRET_KEY, encoded_payload, hashlib.sha512)\n",
    "    return signature.hexdigest()\n",
    "\n",
    "\n",
    "def get_response(action, payload):\n",
    "    url = '{}{}'.format('https://api.coinone.co.kr/', action)\n",
    "\n",
    "    encoded_payload = get_encoded_payload(payload)\n",
    "\n",
    "    headers = {\n",
    "        'Content-type': 'application/json',\n",
    "        'X-COINONE-PAYLOAD': encoded_payload,\n",
    "        'X-COINONE-SIGNATURE': get_signature(encoded_payload),\n",
    "    }\n",
    "\n",
    "    http = httplib2.Http()\n",
    "    response, content = http.request(url, 'POST', body=encoded_payload, headers=headers)\n",
    "\n",
    "    return content\n",
    "\n",
    "\n",
    "c_value = get_response(action='v2/account/balance', payload={'access_token': ACCESS_TOKEN,})\n",
    "c_value_str = str(c_value[71:74])\n",
    "c_value_str2 = c_value_str[2:5]\n",
    "c_value_ = float(c_value_str2)\n"
   ]
  },
  {
   "cell_type": "code",
   "execution_count": 8,
   "metadata": {},
   "outputs": [
    {
     "data": {
      "text/plain": [
       "'impossible'"
      ]
     },
     "execution_count": 8,
     "metadata": {},
     "output_type": "execute_result"
    }
   ],
   "source": [
    "if work_sum < c_value_krw :\n",
    "    transfer_possibility = \"possible\"\n",
    "else :\n",
    "    transfer_possibility = \"impossible\"\n",
    "\n",
    "transfer_possibility"
   ]
  },
  {
   "cell_type": "code",
   "execution_count": null,
   "metadata": {},
   "outputs": [],
   "source": []
  }
 ],
 "metadata": {
  "kernelspec": {
   "display_name": "Python 3",
   "language": "python",
   "name": "python3"
  },
  "language_info": {
   "codemirror_mode": {
    "name": "ipython",
    "version": 3
   },
   "file_extension": ".py",
   "mimetype": "text/x-python",
   "name": "python",
   "nbconvert_exporter": "python",
   "pygments_lexer": "ipython3",
   "version": "3.8.5"
  }
 },
 "nbformat": 4,
 "nbformat_minor": 4
}
