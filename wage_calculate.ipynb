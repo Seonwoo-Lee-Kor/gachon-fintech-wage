{
 "cells": [
  {
   "cell_type": "code",
   "execution_count": 74,
   "metadata": {},
   "outputs": [],
   "source": [
    "import numpy as np\n",
    "import pandas as pd"
   ]
  },
  {
   "cell_type": "code",
   "execution_count": 75,
   "metadata": {},
   "outputs": [],
   "source": [
    "work_time = pd.read_pickle(\"work_time.pkl\")"
   ]
  },
  {
   "cell_type": "code",
   "execution_count": 76,
   "metadata": {},
   "outputs": [],
   "source": [
    "a = work_time['1st']\n",
    "b = work_time['2nd']\n",
    "c = work_time['3rd']\n",
    "d = work_time['4th']\n",
    "per_hour = work_time['H'][1]\n",
    "\n",
    "week1 = a.sum()\n",
    "week2 = b.sum()\n",
    "week3 = c.sum()\n",
    "week4 = d.sum()\n",
    "\n",
    "x = [week1,week2,week3,week4]\n",
    "work_time = []\n",
    "work_wage = []\n",
    "\n",
    "for i in x :\n",
    "    if i <= 15 :\n",
    "        i = i\n",
    "        work_time.append(i)\n",
    "        work_wage.append(i*per_hour)\n",
    "        \n",
    "    elif i <= 40 :\n",
    "        i = i * 1.2\n",
    "        work_time.append(i)\n",
    "        work_wage.append(i*per_hour)\n",
    "        \n",
    "    else:\n",
    "        i = i + 40 * 0.2\n",
    "        work_time.append(i)\n",
    "        work_wage.append(i*per_hour)\n",
    "        \n",
    "    \n",
    "time_sum = sum(work_time)\n",
    "work_sum = sum(work_wage)"
   ]
  },
  {
   "cell_type": "code",
   "execution_count": 77,
   "metadata": {},
   "outputs": [
    {
     "data": {
      "text/plain": [
       "152.0"
      ]
     },
     "execution_count": 77,
     "metadata": {},
     "output_type": "execute_result"
    }
   ],
   "source": [
    "time_sum"
   ]
  },
  {
   "cell_type": "code",
   "execution_count": 79,
   "metadata": {},
   "outputs": [
    {
     "data": {
      "text/plain": [
       "1444000.0"
      ]
     },
     "execution_count": 79,
     "metadata": {},
     "output_type": "execute_result"
    }
   ],
   "source": [
    "work_sum"
   ]
  },
  {
   "cell_type": "code",
   "execution_count": null,
   "metadata": {},
   "outputs": [],
   "source": []
  }
 ],
 "metadata": {
  "kernelspec": {
   "display_name": "Python 3",
   "language": "python",
   "name": "python3"
  },
  "language_info": {
   "codemirror_mode": {
    "name": "ipython",
    "version": 3
   },
   "file_extension": ".py",
   "mimetype": "text/x-python",
   "name": "python",
   "nbconvert_exporter": "python",
   "pygments_lexer": "ipython3",
   "version": "3.8.5"
  }
 },
 "nbformat": 4,
 "nbformat_minor": 4
}
